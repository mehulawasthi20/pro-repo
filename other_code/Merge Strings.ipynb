{
 "cells": [
  {
   "cell_type": "code",
   "execution_count": 8,
   "metadata": {},
   "outputs": [],
   "source": [
    "for i in range(0,min(len(a),len(b))):\n",
    "\n",
    "    while j< max(len(a),len(b)):\n",
    "                \n",
    "        st = st+a[i]+b[j]\n",
    "        j = j + 1\n",
    "        break\n",
    "\n",
    "\n",
    "if len(a) < len(b):\n",
    "    st = st+b[j:]\n",
    "else:\n",
    "    st = st+a[j:]\n",
    "        \n"
   ]
  },
  {
   "cell_type": "code",
   "execution_count": null,
   "metadata": {},
   "outputs": [],
   "source": []
  }
 ],
 "metadata": {
  "kernelspec": {
   "display_name": "Python 3",
   "language": "python",
   "name": "python3"
  },
  "language_info": {
   "codemirror_mode": {
    "name": "ipython",
    "version": 3
   },
   "file_extension": ".py",
   "mimetype": "text/x-python",
   "name": "python",
   "nbconvert_exporter": "python",
   "pygments_lexer": "ipython3",
   "version": "3.7.3"
  }
 },
 "nbformat": 4,
 "nbformat_minor": 2
}
